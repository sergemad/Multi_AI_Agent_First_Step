{
 "cells": [
  {
   "cell_type": "code",
   "execution_count": 19,
   "metadata": {},
   "outputs": [
    {
     "name": "stdout",
     "output_type": "stream",
     "text": [
      "Requirement already satisfied: langchain in /Users/sergekeita/opt/anaconda3/envs/llm_langgraph/lib/python3.9/site-packages (0.2.1)\n",
      "Requirement already satisfied: langchain-community in /Users/sergekeita/opt/anaconda3/envs/llm_langgraph/lib/python3.9/site-packages (0.2.1)\n",
      "Requirement already satisfied: langchainhub in /Users/sergekeita/opt/anaconda3/envs/llm_langgraph/lib/python3.9/site-packages (0.1.16)\n",
      "Requirement already satisfied: langchain-core in /Users/sergekeita/opt/anaconda3/envs/llm_langgraph/lib/python3.9/site-packages (0.2.1)\n",
      "Requirement already satisfied: PyYAML>=5.3 in /Users/sergekeita/opt/anaconda3/envs/llm_langgraph/lib/python3.9/site-packages (from langchain) (6.0.1)\n",
      "Requirement already satisfied: SQLAlchemy<3,>=1.4 in /Users/sergekeita/opt/anaconda3/envs/llm_langgraph/lib/python3.9/site-packages (from langchain) (2.0.30)\n",
      "Requirement already satisfied: aiohttp<4.0.0,>=3.8.3 in /Users/sergekeita/opt/anaconda3/envs/llm_langgraph/lib/python3.9/site-packages (from langchain) (3.9.5)\n",
      "Requirement already satisfied: async-timeout<5.0.0,>=4.0.0 in /Users/sergekeita/opt/anaconda3/envs/llm_langgraph/lib/python3.9/site-packages (from langchain) (4.0.3)\n",
      "Requirement already satisfied: langchain-text-splitters<0.3.0,>=0.2.0 in /Users/sergekeita/opt/anaconda3/envs/llm_langgraph/lib/python3.9/site-packages (from langchain) (0.2.0)\n",
      "Requirement already satisfied: langsmith<0.2.0,>=0.1.17 in /Users/sergekeita/opt/anaconda3/envs/llm_langgraph/lib/python3.9/site-packages (from langchain) (0.1.63)\n",
      "Requirement already satisfied: numpy<2,>=1 in /Users/sergekeita/opt/anaconda3/envs/llm_langgraph/lib/python3.9/site-packages (from langchain) (1.26.4)\n",
      "Requirement already satisfied: pydantic<3,>=1 in /Users/sergekeita/opt/anaconda3/envs/llm_langgraph/lib/python3.9/site-packages (from langchain) (2.7.1)\n",
      "Requirement already satisfied: requests<3,>=2 in /Users/sergekeita/opt/anaconda3/envs/llm_langgraph/lib/python3.9/site-packages (from langchain) (2.32.2)\n",
      "Requirement already satisfied: tenacity<9.0.0,>=8.1.0 in /Users/sergekeita/opt/anaconda3/envs/llm_langgraph/lib/python3.9/site-packages (from langchain) (8.3.0)\n",
      "Requirement already satisfied: dataclasses-json<0.7,>=0.5.7 in /Users/sergekeita/opt/anaconda3/envs/llm_langgraph/lib/python3.9/site-packages (from langchain-community) (0.6.6)\n",
      "Requirement already satisfied: types-requests<3.0.0.0,>=2.31.0.2 in /Users/sergekeita/opt/anaconda3/envs/llm_langgraph/lib/python3.9/site-packages (from langchainhub) (2.32.0.20240523)\n",
      "Requirement already satisfied: jsonpatch<2.0,>=1.33 in /Users/sergekeita/opt/anaconda3/envs/llm_langgraph/lib/python3.9/site-packages (from langchain-core) (1.33)\n",
      "Requirement already satisfied: packaging<24.0,>=23.2 in /Users/sergekeita/opt/anaconda3/envs/llm_langgraph/lib/python3.9/site-packages (from langchain-core) (23.2)\n",
      "Requirement already satisfied: aiosignal>=1.1.2 in /Users/sergekeita/opt/anaconda3/envs/llm_langgraph/lib/python3.9/site-packages (from aiohttp<4.0.0,>=3.8.3->langchain) (1.3.1)\n",
      "Requirement already satisfied: attrs>=17.3.0 in /Users/sergekeita/opt/anaconda3/envs/llm_langgraph/lib/python3.9/site-packages (from aiohttp<4.0.0,>=3.8.3->langchain) (23.2.0)\n",
      "Requirement already satisfied: frozenlist>=1.1.1 in /Users/sergekeita/opt/anaconda3/envs/llm_langgraph/lib/python3.9/site-packages (from aiohttp<4.0.0,>=3.8.3->langchain) (1.4.1)\n",
      "Requirement already satisfied: multidict<7.0,>=4.5 in /Users/sergekeita/opt/anaconda3/envs/llm_langgraph/lib/python3.9/site-packages (from aiohttp<4.0.0,>=3.8.3->langchain) (6.0.5)\n",
      "Requirement already satisfied: yarl<2.0,>=1.0 in /Users/sergekeita/opt/anaconda3/envs/llm_langgraph/lib/python3.9/site-packages (from aiohttp<4.0.0,>=3.8.3->langchain) (1.9.4)\n",
      "Requirement already satisfied: marshmallow<4.0.0,>=3.18.0 in /Users/sergekeita/opt/anaconda3/envs/llm_langgraph/lib/python3.9/site-packages (from dataclasses-json<0.7,>=0.5.7->langchain-community) (3.21.2)\n",
      "Requirement already satisfied: typing-inspect<1,>=0.4.0 in /Users/sergekeita/opt/anaconda3/envs/llm_langgraph/lib/python3.9/site-packages (from dataclasses-json<0.7,>=0.5.7->langchain-community) (0.9.0)\n",
      "Requirement already satisfied: jsonpointer>=1.9 in /Users/sergekeita/opt/anaconda3/envs/llm_langgraph/lib/python3.9/site-packages (from jsonpatch<2.0,>=1.33->langchain-core) (2.4)\n",
      "Requirement already satisfied: orjson<4.0.0,>=3.9.14 in /Users/sergekeita/opt/anaconda3/envs/llm_langgraph/lib/python3.9/site-packages (from langsmith<0.2.0,>=0.1.17->langchain) (3.10.3)\n",
      "Requirement already satisfied: annotated-types>=0.4.0 in /Users/sergekeita/opt/anaconda3/envs/llm_langgraph/lib/python3.9/site-packages (from pydantic<3,>=1->langchain) (0.7.0)\n",
      "Requirement already satisfied: pydantic-core==2.18.2 in /Users/sergekeita/opt/anaconda3/envs/llm_langgraph/lib/python3.9/site-packages (from pydantic<3,>=1->langchain) (2.18.2)\n",
      "Requirement already satisfied: typing-extensions>=4.6.1 in /Users/sergekeita/opt/anaconda3/envs/llm_langgraph/lib/python3.9/site-packages (from pydantic<3,>=1->langchain) (4.11.0)\n",
      "Requirement already satisfied: charset-normalizer<4,>=2 in /Users/sergekeita/opt/anaconda3/envs/llm_langgraph/lib/python3.9/site-packages (from requests<3,>=2->langchain) (3.3.2)\n",
      "Requirement already satisfied: idna<4,>=2.5 in /Users/sergekeita/opt/anaconda3/envs/llm_langgraph/lib/python3.9/site-packages (from requests<3,>=2->langchain) (3.7)\n",
      "Requirement already satisfied: urllib3<3,>=1.21.1 in /Users/sergekeita/opt/anaconda3/envs/llm_langgraph/lib/python3.9/site-packages (from requests<3,>=2->langchain) (2.2.1)\n",
      "Requirement already satisfied: certifi>=2017.4.17 in /Users/sergekeita/opt/anaconda3/envs/llm_langgraph/lib/python3.9/site-packages (from requests<3,>=2->langchain) (2024.2.2)\n",
      "Requirement already satisfied: greenlet!=0.4.17 in /Users/sergekeita/opt/anaconda3/envs/llm_langgraph/lib/python3.9/site-packages (from SQLAlchemy<3,>=1.4->langchain) (3.0.3)\n",
      "Requirement already satisfied: mypy-extensions>=0.3.0 in /Users/sergekeita/opt/anaconda3/envs/llm_langgraph/lib/python3.9/site-packages (from typing-inspect<1,>=0.4.0->dataclasses-json<0.7,>=0.5.7->langchain-community) (1.0.0)\n",
      "Requirement already satisfied: langgraph in /Users/sergekeita/opt/anaconda3/envs/llm_langgraph/lib/python3.9/site-packages (0.0.55)\n",
      "Requirement already satisfied: langchain-core<0.3,>=0.2 in /Users/sergekeita/opt/anaconda3/envs/llm_langgraph/lib/python3.9/site-packages (from langgraph) (0.2.1)\n",
      "Requirement already satisfied: uuid6<2025.0.0,>=2024.1.12 in /Users/sergekeita/opt/anaconda3/envs/llm_langgraph/lib/python3.9/site-packages (from langgraph) (2024.1.12)\n",
      "Requirement already satisfied: PyYAML>=5.3 in /Users/sergekeita/opt/anaconda3/envs/llm_langgraph/lib/python3.9/site-packages (from langchain-core<0.3,>=0.2->langgraph) (6.0.1)\n",
      "Requirement already satisfied: jsonpatch<2.0,>=1.33 in /Users/sergekeita/opt/anaconda3/envs/llm_langgraph/lib/python3.9/site-packages (from langchain-core<0.3,>=0.2->langgraph) (1.33)\n",
      "Requirement already satisfied: langsmith<0.2.0,>=0.1.0 in /Users/sergekeita/opt/anaconda3/envs/llm_langgraph/lib/python3.9/site-packages (from langchain-core<0.3,>=0.2->langgraph) (0.1.63)\n",
      "Requirement already satisfied: packaging<24.0,>=23.2 in /Users/sergekeita/opt/anaconda3/envs/llm_langgraph/lib/python3.9/site-packages (from langchain-core<0.3,>=0.2->langgraph) (23.2)\n",
      "Requirement already satisfied: pydantic<3,>=1 in /Users/sergekeita/opt/anaconda3/envs/llm_langgraph/lib/python3.9/site-packages (from langchain-core<0.3,>=0.2->langgraph) (2.7.1)\n",
      "Requirement already satisfied: tenacity<9.0.0,>=8.1.0 in /Users/sergekeita/opt/anaconda3/envs/llm_langgraph/lib/python3.9/site-packages (from langchain-core<0.3,>=0.2->langgraph) (8.3.0)\n",
      "Requirement already satisfied: jsonpointer>=1.9 in /Users/sergekeita/opt/anaconda3/envs/llm_langgraph/lib/python3.9/site-packages (from jsonpatch<2.0,>=1.33->langchain-core<0.3,>=0.2->langgraph) (2.4)\n",
      "Requirement already satisfied: orjson<4.0.0,>=3.9.14 in /Users/sergekeita/opt/anaconda3/envs/llm_langgraph/lib/python3.9/site-packages (from langsmith<0.2.0,>=0.1.0->langchain-core<0.3,>=0.2->langgraph) (3.10.3)\n",
      "Requirement already satisfied: requests<3,>=2 in /Users/sergekeita/opt/anaconda3/envs/llm_langgraph/lib/python3.9/site-packages (from langsmith<0.2.0,>=0.1.0->langchain-core<0.3,>=0.2->langgraph) (2.32.2)\n",
      "Requirement already satisfied: annotated-types>=0.4.0 in /Users/sergekeita/opt/anaconda3/envs/llm_langgraph/lib/python3.9/site-packages (from pydantic<3,>=1->langchain-core<0.3,>=0.2->langgraph) (0.7.0)\n",
      "Requirement already satisfied: pydantic-core==2.18.2 in /Users/sergekeita/opt/anaconda3/envs/llm_langgraph/lib/python3.9/site-packages (from pydantic<3,>=1->langchain-core<0.3,>=0.2->langgraph) (2.18.2)\n",
      "Requirement already satisfied: typing-extensions>=4.6.1 in /Users/sergekeita/opt/anaconda3/envs/llm_langgraph/lib/python3.9/site-packages (from pydantic<3,>=1->langchain-core<0.3,>=0.2->langgraph) (4.11.0)\n",
      "Requirement already satisfied: charset-normalizer<4,>=2 in /Users/sergekeita/opt/anaconda3/envs/llm_langgraph/lib/python3.9/site-packages (from requests<3,>=2->langsmith<0.2.0,>=0.1.0->langchain-core<0.3,>=0.2->langgraph) (3.3.2)\n",
      "Requirement already satisfied: idna<4,>=2.5 in /Users/sergekeita/opt/anaconda3/envs/llm_langgraph/lib/python3.9/site-packages (from requests<3,>=2->langsmith<0.2.0,>=0.1.0->langchain-core<0.3,>=0.2->langgraph) (3.7)\n",
      "Requirement already satisfied: urllib3<3,>=1.21.1 in /Users/sergekeita/opt/anaconda3/envs/llm_langgraph/lib/python3.9/site-packages (from requests<3,>=2->langsmith<0.2.0,>=0.1.0->langchain-core<0.3,>=0.2->langgraph) (2.2.1)\n",
      "Requirement already satisfied: certifi>=2017.4.17 in /Users/sergekeita/opt/anaconda3/envs/llm_langgraph/lib/python3.9/site-packages (from requests<3,>=2->langsmith<0.2.0,>=0.1.0->langchain-core<0.3,>=0.2->langgraph) (2024.2.2)\n",
      "Requirement already satisfied: langchain_openai in /Users/sergekeita/opt/anaconda3/envs/llm_langgraph/lib/python3.9/site-packages (0.1.7)\n",
      "Requirement already satisfied: langchain-core<0.3,>=0.1.46 in /Users/sergekeita/opt/anaconda3/envs/llm_langgraph/lib/python3.9/site-packages (from langchain_openai) (0.2.1)\n",
      "Requirement already satisfied: openai<2.0.0,>=1.24.0 in /Users/sergekeita/opt/anaconda3/envs/llm_langgraph/lib/python3.9/site-packages (from langchain_openai) (1.30.3)\n",
      "Requirement already satisfied: tiktoken<1,>=0.7 in /Users/sergekeita/opt/anaconda3/envs/llm_langgraph/lib/python3.9/site-packages (from langchain_openai) (0.7.0)\n",
      "Requirement already satisfied: PyYAML>=5.3 in /Users/sergekeita/opt/anaconda3/envs/llm_langgraph/lib/python3.9/site-packages (from langchain-core<0.3,>=0.1.46->langchain_openai) (6.0.1)\n",
      "Requirement already satisfied: jsonpatch<2.0,>=1.33 in /Users/sergekeita/opt/anaconda3/envs/llm_langgraph/lib/python3.9/site-packages (from langchain-core<0.3,>=0.1.46->langchain_openai) (1.33)\n",
      "Requirement already satisfied: langsmith<0.2.0,>=0.1.0 in /Users/sergekeita/opt/anaconda3/envs/llm_langgraph/lib/python3.9/site-packages (from langchain-core<0.3,>=0.1.46->langchain_openai) (0.1.63)\n",
      "Requirement already satisfied: packaging<24.0,>=23.2 in /Users/sergekeita/opt/anaconda3/envs/llm_langgraph/lib/python3.9/site-packages (from langchain-core<0.3,>=0.1.46->langchain_openai) (23.2)\n",
      "Requirement already satisfied: pydantic<3,>=1 in /Users/sergekeita/opt/anaconda3/envs/llm_langgraph/lib/python3.9/site-packages (from langchain-core<0.3,>=0.1.46->langchain_openai) (2.7.1)\n",
      "Requirement already satisfied: tenacity<9.0.0,>=8.1.0 in /Users/sergekeita/opt/anaconda3/envs/llm_langgraph/lib/python3.9/site-packages (from langchain-core<0.3,>=0.1.46->langchain_openai) (8.3.0)\n",
      "Requirement already satisfied: anyio<5,>=3.5.0 in /Users/sergekeita/opt/anaconda3/envs/llm_langgraph/lib/python3.9/site-packages (from openai<2.0.0,>=1.24.0->langchain_openai) (4.4.0)\n",
      "Requirement already satisfied: distro<2,>=1.7.0 in /Users/sergekeita/opt/anaconda3/envs/llm_langgraph/lib/python3.9/site-packages (from openai<2.0.0,>=1.24.0->langchain_openai) (1.9.0)\n",
      "Requirement already satisfied: httpx<1,>=0.23.0 in /Users/sergekeita/opt/anaconda3/envs/llm_langgraph/lib/python3.9/site-packages (from openai<2.0.0,>=1.24.0->langchain_openai) (0.27.0)\n",
      "Requirement already satisfied: sniffio in /Users/sergekeita/opt/anaconda3/envs/llm_langgraph/lib/python3.9/site-packages (from openai<2.0.0,>=1.24.0->langchain_openai) (1.3.1)\n",
      "Requirement already satisfied: tqdm>4 in /Users/sergekeita/opt/anaconda3/envs/llm_langgraph/lib/python3.9/site-packages (from openai<2.0.0,>=1.24.0->langchain_openai) (4.66.4)\n",
      "Requirement already satisfied: typing-extensions<5,>=4.7 in /Users/sergekeita/opt/anaconda3/envs/llm_langgraph/lib/python3.9/site-packages (from openai<2.0.0,>=1.24.0->langchain_openai) (4.11.0)\n",
      "Requirement already satisfied: regex>=2022.1.18 in /Users/sergekeita/opt/anaconda3/envs/llm_langgraph/lib/python3.9/site-packages (from tiktoken<1,>=0.7->langchain_openai) (2024.5.15)\n",
      "Requirement already satisfied: requests>=2.26.0 in /Users/sergekeita/opt/anaconda3/envs/llm_langgraph/lib/python3.9/site-packages (from tiktoken<1,>=0.7->langchain_openai) (2.32.2)\n",
      "Requirement already satisfied: idna>=2.8 in /Users/sergekeita/opt/anaconda3/envs/llm_langgraph/lib/python3.9/site-packages (from anyio<5,>=3.5.0->openai<2.0.0,>=1.24.0->langchain_openai) (3.7)\n",
      "Requirement already satisfied: exceptiongroup>=1.0.2 in /Users/sergekeita/opt/anaconda3/envs/llm_langgraph/lib/python3.9/site-packages (from anyio<5,>=3.5.0->openai<2.0.0,>=1.24.0->langchain_openai) (1.2.1)\n",
      "Requirement already satisfied: certifi in /Users/sergekeita/opt/anaconda3/envs/llm_langgraph/lib/python3.9/site-packages (from httpx<1,>=0.23.0->openai<2.0.0,>=1.24.0->langchain_openai) (2024.2.2)\n",
      "Requirement already satisfied: httpcore==1.* in /Users/sergekeita/opt/anaconda3/envs/llm_langgraph/lib/python3.9/site-packages (from httpx<1,>=0.23.0->openai<2.0.0,>=1.24.0->langchain_openai) (1.0.5)\n",
      "Requirement already satisfied: h11<0.15,>=0.13 in /Users/sergekeita/opt/anaconda3/envs/llm_langgraph/lib/python3.9/site-packages (from httpcore==1.*->httpx<1,>=0.23.0->openai<2.0.0,>=1.24.0->langchain_openai) (0.14.0)\n",
      "Requirement already satisfied: jsonpointer>=1.9 in /Users/sergekeita/opt/anaconda3/envs/llm_langgraph/lib/python3.9/site-packages (from jsonpatch<2.0,>=1.33->langchain-core<0.3,>=0.1.46->langchain_openai) (2.4)\n",
      "Requirement already satisfied: orjson<4.0.0,>=3.9.14 in /Users/sergekeita/opt/anaconda3/envs/llm_langgraph/lib/python3.9/site-packages (from langsmith<0.2.0,>=0.1.0->langchain-core<0.3,>=0.1.46->langchain_openai) (3.10.3)\n",
      "Requirement already satisfied: annotated-types>=0.4.0 in /Users/sergekeita/opt/anaconda3/envs/llm_langgraph/lib/python3.9/site-packages (from pydantic<3,>=1->langchain-core<0.3,>=0.1.46->langchain_openai) (0.7.0)\n",
      "Requirement already satisfied: pydantic-core==2.18.2 in /Users/sergekeita/opt/anaconda3/envs/llm_langgraph/lib/python3.9/site-packages (from pydantic<3,>=1->langchain-core<0.3,>=0.1.46->langchain_openai) (2.18.2)\n",
      "Requirement already satisfied: charset-normalizer<4,>=2 in /Users/sergekeita/opt/anaconda3/envs/llm_langgraph/lib/python3.9/site-packages (from requests>=2.26.0->tiktoken<1,>=0.7->langchain_openai) (3.3.2)\n",
      "Requirement already satisfied: urllib3<3,>=1.21.1 in /Users/sergekeita/opt/anaconda3/envs/llm_langgraph/lib/python3.9/site-packages (from requests>=2.26.0->tiktoken<1,>=0.7->langchain_openai) (2.2.1)\n",
      "Collecting ollama\n",
      "  Downloading ollama-0.2.0-py3-none-any.whl.metadata (4.1 kB)\n",
      "Requirement already satisfied: httpx<0.28.0,>=0.27.0 in /Users/sergekeita/opt/anaconda3/envs/llm_langgraph/lib/python3.9/site-packages (from ollama) (0.27.0)\n",
      "Requirement already satisfied: anyio in /Users/sergekeita/opt/anaconda3/envs/llm_langgraph/lib/python3.9/site-packages (from httpx<0.28.0,>=0.27.0->ollama) (4.4.0)\n",
      "Requirement already satisfied: certifi in /Users/sergekeita/opt/anaconda3/envs/llm_langgraph/lib/python3.9/site-packages (from httpx<0.28.0,>=0.27.0->ollama) (2024.2.2)\n",
      "Requirement already satisfied: httpcore==1.* in /Users/sergekeita/opt/anaconda3/envs/llm_langgraph/lib/python3.9/site-packages (from httpx<0.28.0,>=0.27.0->ollama) (1.0.5)\n",
      "Requirement already satisfied: idna in /Users/sergekeita/opt/anaconda3/envs/llm_langgraph/lib/python3.9/site-packages (from httpx<0.28.0,>=0.27.0->ollama) (3.7)\n",
      "Requirement already satisfied: sniffio in /Users/sergekeita/opt/anaconda3/envs/llm_langgraph/lib/python3.9/site-packages (from httpx<0.28.0,>=0.27.0->ollama) (1.3.1)\n",
      "Requirement already satisfied: h11<0.15,>=0.13 in /Users/sergekeita/opt/anaconda3/envs/llm_langgraph/lib/python3.9/site-packages (from httpcore==1.*->httpx<0.28.0,>=0.27.0->ollama) (0.14.0)\n",
      "Requirement already satisfied: exceptiongroup>=1.0.2 in /Users/sergekeita/opt/anaconda3/envs/llm_langgraph/lib/python3.9/site-packages (from anyio->httpx<0.28.0,>=0.27.0->ollama) (1.2.1)\n",
      "Requirement already satisfied: typing-extensions>=4.1 in /Users/sergekeita/opt/anaconda3/envs/llm_langgraph/lib/python3.9/site-packages (from anyio->httpx<0.28.0,>=0.27.0->ollama) (4.11.0)\n",
      "Downloading ollama-0.2.0-py3-none-any.whl (9.5 kB)\n",
      "Installing collected packages: ollama\n",
      "Successfully installed ollama-0.2.0\n"
     ]
    }
   ],
   "source": [
    "!pip install langchain langchain-community langchainhub langchain-core\n",
    "!pip install -U langgraph\n",
    "!pip install langchain_openai\n",
    "!pip install ollama"
   ]
  },
  {
   "cell_type": "code",
   "execution_count": 20,
   "metadata": {},
   "outputs": [],
   "source": [
    "from typing import Dict, TypedDict, Optional\n",
    "from langgraph.graph import MessageGraph, END\n",
    "from langchain_community.chat_models import ChatOllama\n",
    "from langchain_core.messages import HumanMessage\n",
    "import random\n",
    "import time"
   ]
  },
  {
   "cell_type": "code",
   "execution_count": 21,
   "metadata": {},
   "outputs": [],
   "source": [
    "model = ChatOllama(model=\"openhermes\")"
   ]
  },
  {
   "cell_type": "code",
   "execution_count": 22,
   "metadata": {},
   "outputs": [],
   "source": [
    "graph = MessageGraph()\n",
    "\n",
    "graph.add_node(\"oracle\", model)\n",
    "graph.add_edge(\"oracle\", END)\n",
    "\n",
    "graph.set_entry_point(\"oracle\")\n",
    "\n",
    "runnable = graph.compile()"
   ]
  },
  {
   "cell_type": "code",
   "execution_count": 25,
   "metadata": {},
   "outputs": [
    {
     "data": {
      "text/plain": [
       "[HumanMessage(content='What is 1 + 1?', id='5b2d7b92-5ff1-4b56-aee7-aa74a3366039'),\n",
       " AIMessage(content='1 + 1 equals 2.', response_metadata={'model': 'openhermes', 'created_at': '2024-05-28T09:19:26.963549Z', 'message': {'role': 'assistant', 'content': ''}, 'done': True, 'total_duration': 139366256607, 'load_duration': 6030131, 'prompt_eval_count': 23, 'prompt_eval_duration': 61196280000, 'eval_count': 8, 'eval_duration': 78155885000}, id='run-3c7c845d-92b5-4e11-82b6-ac5369d2915c-0')]"
      ]
     },
     "execution_count": 25,
     "metadata": {},
     "output_type": "execute_result"
    }
   ],
   "source": [
    "runnable.invoke(HumanMessage(\"What is 1 + 1?\"))"
   ]
  }
 ],
 "metadata": {
  "kernelspec": {
   "display_name": "llm_langgraph",
   "language": "python",
   "name": "python3"
  },
  "language_info": {
   "codemirror_mode": {
    "name": "ipython",
    "version": 3
   },
   "file_extension": ".py",
   "mimetype": "text/x-python",
   "name": "python",
   "nbconvert_exporter": "python",
   "pygments_lexer": "ipython3",
   "version": "3.9.19"
  }
 },
 "nbformat": 4,
 "nbformat_minor": 2
}
